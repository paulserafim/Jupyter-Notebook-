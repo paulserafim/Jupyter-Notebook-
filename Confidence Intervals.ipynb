{
 "cells": [
  {
   "cell_type": "markdown",
   "metadata": {},
   "source": [
    "# Confidence intervals\n",
    "\n",
    "## Intended Learning Objectives\n",
    "\n",
    "1. Calculate a confidence interval for a population mean\n",
    "2. Investigate how point estimates of the population mean vary from sample to sample\n",
    "3. Investigate how often confidence intervals calculated from a sample contain the population mean\n",
    "4. Be able to run and edit code from the statistics environment R in a Jupyter notebook"
   ]
  },
  {
   "cell_type": "markdown",
   "metadata": {},
   "source": [
    "## Introduction\n",
    "\n",
    "In this Jupyter notebook, we’ll simulate random samples from a population and calculate confidence intervals for the population mean.  We’ll see how the point estimates of the population mean vary from sample to sample and consider what proportion of the confidence intervals contain the true population mean.\n",
    "\n",
    "Each block of R code can be run by clicking 'Run' or by using the keyboard shortcut of Shift + Enter.  In fact, you can also edit the code before you run it.  Once you’ve worked through the notebook, try going back and changing some of the values used, like the size of each random sample or the number of samples taken.  What effect does this have?  If you want to change the population mean from 165 cm to some other value, how many changes to the code do you need to make in order to accurately calculate and present the results?"
   ]
  },
  {
   "cell_type": "markdown",
   "metadata": {},
   "source": [
    "\n",
    "Assume that we’re interested in the height in centimetres (cm) of women in the UK.  In particular we’d like to estimate what the average (i.e. mean) height of a woman in the UK is.  To do this, we might obtain the heights of a representative sample of women and calculate the mean height in our sample as an estimate of the population mean.\n",
    "We’ve seen that confidence intervals are a way for us to express how precise we believe our estimate to be.  To enable us to explore how confidence intervals vary from sample to sample, let’s assume for a moment that we know that heights of women in the UK follow a normal distribution with mean 165 cm and standard deviation 8.9 cm.  Of course, if we knew this we wouldn’t have to estimate what the mean height is, we’d already know.  But fixing what the true population mean is for a minute will allow us to explore how confidence intervals relate to the truth.\n",
    "Let’s simulate taking a random sample of size 50 from our assumed distribution, like we’ve obtained the heights of 50 women randomly selected from the population."
   ]
  },
  {
   "cell_type": "code",
   "execution_count": null,
   "metadata": {},
   "outputs": [],
   "source": [
    "sample.size <- 30\n",
    "my.sample <- rnorm(n=sample.size, mean=165, sd=8.9)"
   ]
  },
  {
   "cell_type": "markdown",
   "metadata": {},
   "source": [
    "The mean height in our sample is"
   ]
  },
  {
   "cell_type": "code",
   "execution_count": null,
   "metadata": {},
   "outputs": [],
   "source": [
    "x.bar <- mean(my.sample)\n",
    "x.bar"
   ]
  },
  {
   "cell_type": "markdown",
   "metadata": {},
   "source": [
    "If we just had this one sample, this would be our estimate of what the mean height in the population is.  We could also estimate what the standard deviation of heights in the population is."
   ]
  },
  {
   "cell_type": "code",
   "execution_count": null,
   "metadata": {},
   "outputs": [],
   "source": [
    "s <- sd(my.sample)\n",
    "s"
   ]
  },
  {
   "cell_type": "markdown",
   "metadata": {},
   "source": [
    "Our estimate of the population mean height is based on our sample and we would get another, almost certainly different, estimate from another sample.  How the mean would vary from sample to sample across all samples is known as the sampling distribution of the mean.  We can estimate the standard deviation of this distribution, known as the standard error of the mean, as"
   ]
  },
  {
   "cell_type": "code",
   "execution_count": null,
   "metadata": {},
   "outputs": [],
   "source": [
    "se <- s / sqrt(sample.size)\n",
    "se"
   ]
  },
  {
   "cell_type": "markdown",
   "metadata": {},
   "source": [
    "If the sampling distribution of the sample mean is a normal distribution, with standard deviation given by our estimate of the standard error, then we can calculate the lower and upper limits of a 95% confidence interval for the population mean as follows"
   ]
  },
  {
   "cell_type": "code",
   "execution_count": null,
   "metadata": {},
   "outputs": [],
   "source": [
    "ci.lower <- x.bar - 1.96*se\n",
    "ci.lower\n",
    "ci.upper <- x.bar + 1.96*se\n",
    "ci.upper"
   ]
  },
  {
   "cell_type": "markdown",
   "metadata": {},
   "source": [
    "We could write this in a sentence as follows"
   ]
  },
  {
   "cell_type": "code",
   "execution_count": null,
   "metadata": {},
   "outputs": [],
   "source": [
    "paste(\"Our 95% confidence interval for the population mean is (\",format(ci.lower,digits=5), \", \", format(ci.upper, digits=5),\")\", sep=\"\")"
   ]
  },
  {
   "cell_type": "markdown",
   "metadata": {},
   "source": [
    "Now let’s take advantage of being in the rare position where we can take repeated samples from the population we’re interested in.\n",
    "We set the number of samples to take and create some objects to hold the results in for each sample: the sample mean, the lower and upper limits of the 95% confidence interval and whether or not the calculated confidence interval contains the true population mean"
   ]
  },
  {
   "cell_type": "code",
   "execution_count": null,
   "metadata": {},
   "outputs": [],
   "source": [
    "n.samples <- 1000\n",
    "x.bar <- vector(length=n.samples) \n",
    "cil <- vector(length=n.samples)\n",
    "ciu <- vector(length=n.samples)\n",
    "coverage <- vector(length=n.samples)"
   ]
  },
  {
   "cell_type": "markdown",
   "metadata": {},
   "source": [
    "We use a loop to perform the required calculation across the multiple samples, repeating this loop as many times as the number of samples we’re taking"
   ]
  },
  {
   "cell_type": "code",
   "execution_count": null,
   "metadata": {},
   "outputs": [],
   "source": [
    "for(i in 1:n.samples){\n",
    "\n",
    "    # generate the sample\n",
    "    samp <- rnorm(sample.size, mean = 165, sd = 8.9)\n",
    "\n",
    "    # sample mean\n",
    "    x.bar[i] <- mean(samp)\n",
    "    \n",
    "    # sample standard deviation\n",
    "    s <- sd(samp)\n",
    "\n",
    "    # estimated standard error of the mean\n",
    "    se <- s / sqrt(sample.size)\n",
    "    \n",
    "    # lower limit of the 95% confidence interval\n",
    "    cil[i] <- x.bar[i] - 1.96*se\n",
    "\n",
    "    # upper limit of the 95% confidence interval\n",
    "    ciu[i] <- x.bar[i] + 1.96*se\n",
    "\n",
    "    # does the CI contain the true population mean of 165 cm?: 0 for no, 1 for yes\n",
    "    coverage[i] <- cil[i] < 165 & ciu[i] > 165\n",
    "}  "
   ]
  },
  {
   "cell_type": "markdown",
   "metadata": {},
   "source": [
    "Let’s look at a histogram of the sample means from all the samples we’ve just taken"
   ]
  },
  {
   "cell_type": "code",
   "execution_count": null,
   "metadata": {},
   "outputs": [],
   "source": [
    "hist(x.bar, xlab=\"Height (cm)\", main=paste(\"Estimated population means from \", n.samples ,\" samples\", sep=\"\"))\n",
    "\n",
    "# add a vertical line to show the true population mean of 165 cm\n",
    "abline(v=165, col=\"red\", lwd=3)"
   ]
  },
  {
   "cell_type": "markdown",
   "metadata": {},
   "source": [
    "Now let’s draw all of the confidence intervals that we’ve just calculated, one for each sample"
   ]
  },
  {
   "cell_type": "code",
   "execution_count": null,
   "metadata": {},
   "outputs": [],
   "source": [
    "# set up the axes for the plot\n",
    "plot(y=1:n.samples, x=x.bar, xlim=c(min(cil), max(ciu)), xlab=\"Height (cm)\", ylab=\"sample #\")\n",
    "\n",
    "# add a blue line for any CI which does include the true population mean\n",
    "segments(x0=cil[coverage], y0=which(coverage==1), x1=ciu[coverage], y1=which(coverage==1), col=\"blue\")\n",
    "\n",
    "# add a red line for any CI which does not include the true population mean\n",
    "segments(x0=cil[!coverage], y0=which(coverage==0), x1=ciu[!coverage], y1=which(coverage==0), col=\"red\")\n",
    "\n",
    "# add a point to show the mean of each sample (in the middle of the CI)\n",
    "points(y=1:n.samples, x=x.bar, pch=20, col=\"white\")\n",
    "\n",
    "# add a vertical line at the true population mean\n",
    "abline(v=165, col=\"red\", lwd=3)\n",
    "\n"
   ]
  },
  {
   "cell_type": "markdown",
   "metadata": {},
   "source": [
    "We’ve calculated the 95% confidence intervals using a technique which delivers a confidence interval containing the true population mean about 95% of the time.  How many of our confidence intervals contained the truth?  Are we close to that expected 95% coverage?"
   ]
  },
  {
   "cell_type": "code",
   "execution_count": null,
   "metadata": {},
   "outputs": [],
   "source": [
    "cover.percent <- sum(coverage)/n.samples*100\n",
    "cover.percent"
   ]
  },
  {
   "cell_type": "markdown",
   "metadata": {},
   "source": [
    "Let’s add our calculated coverage percentage to our plot"
   ]
  },
  {
   "cell_type": "code",
   "execution_count": null,
   "metadata": {},
   "outputs": [],
   "source": [
    "# set up the axes for the plot\n",
    "plot(y=1:n.samples, x=x.bar, xlim=c(min(cil), max(ciu)), xlab=\"Height (cm)\", ylab=\"sample #\")\n",
    "\n",
    "# add a blue line for any CI which does include the true population mean\n",
    "segments(x0=cil[coverage], y0=which(coverage==1), x1=ciu[coverage], y1=which(coverage==1), col=\"blue\")\n",
    "\n",
    "# add a red line for any CI which does not include the true population mean\n",
    "segments(x0=cil[!coverage], y0=which(coverage==0), x1=ciu[!coverage], y1=which(coverage==0), col=\"red\")\n",
    "\n",
    "# add a point to show the mean of each sample (in the middle of the CI)\n",
    "points(y=1:n.samples, x=x.bar, pch=20, col=\"white\")\n",
    "\n",
    "# add a vertical line at the true population mean\n",
    "abline(v=165, col=\"red\", lwd=3)\n",
    "\n",
    "mtext(paste(cover.percent, \"% of these intervals contain 165\"))"
   ]
  },
  {
   "cell_type": "markdown",
   "metadata": {},
   "source": [
    "To finish, let’s remind ourselves that this was a simulation where we knew what the real answer was all along and we could take as many sample as we liked.  In a real study we don’t know what the answer is and we only get one sample.  We calculate our 95% confidence interval using a technique that produces a CI containing the true population mean for about 95% of random samples from the population.  How do we know whether our CI is one of the 95% that does contain the true mean or one of the 5% which doesn’t?  We don’t and we never will.  We just have to be satisfied that we’re using a technique which “gets it right” about 95% of the time."
   ]
  }
 ],
 "metadata": {
  "kernelspec": {
   "display_name": "R",
   "language": "R",
   "name": "ir"
  },
  "language_info": {
   "codemirror_mode": "r",
   "file_extension": ".r",
   "mimetype": "text/x-r-source",
   "name": "R",
   "pygments_lexer": "r",
   "version": "3.5.1"
  }
 },
 "nbformat": 4,
 "nbformat_minor": 2
}
